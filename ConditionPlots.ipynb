{
 "cells": [
  {
   "cell_type": "code",
   "execution_count": null,
   "id": "36256f4d",
   "metadata": {},
   "outputs": [],
   "source": [
    "# Scatter -- Year built vs Condition"
   ]
  },
  {
   "cell_type": "code",
   "execution_count": null,
   "id": "bc446f3a",
   "metadata": {},
   "outputs": [],
   "source": [
    "# Box plot by condition"
   ]
  },
  {
   "cell_type": "code",
   "execution_count": null,
   "id": "7979800f",
   "metadata": {},
   "outputs": [],
   "source": [
    "# Scatter -- ADT vs Load rating by condition"
   ]
  }
 ],
 "metadata": {
  "language_info": {
   "name": "python"
  }
 },
 "nbformat": 4,
 "nbformat_minor": 5
}
